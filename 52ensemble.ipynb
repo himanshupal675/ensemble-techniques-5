{
 "cells": [
  {
   "cell_type": "code",
   "execution_count": 1,
   "id": "91d80f0b-7ab5-493a-a293-0e7363c95216",
   "metadata": {},
   "outputs": [
    {
     "name": "stdout",
     "output_type": "stream",
     "text": [
      "Accuracy of Voting Classifier on the test dataset: 0.84\n"
     ]
    }
   ],
   "source": [
    "import pandas as pd\n",
    "from sklearn.ensemble import RandomForestClassifier, VotingClassifier\n",
    "from sklearn.linear_model import LogisticRegression\n",
    "from sklearn.model_selection import train_test_split\n",
    "from sklearn.metrics import accuracy_score\n",
    "from sklearn.pipeline import Pipeline\n",
    "from sklearn.preprocessing import StandardScaler\n",
    "\n",
    "# Load your dataset\n",
    "data = pd.read_csv('dataset.csv')\n",
    "\n",
    "# Separate target variable (y) from features (X)\n",
    "X = data.drop(columns=['target'])\n",
    "y = data['target']\n",
    "\n",
    "# Split data into training and testing sets\n",
    "X_train, X_test, y_train, y_test = train_test_split(X, y, test_size=0.2, random_state=42)\n",
    "\n",
    "# Create individual classifiers and a scaler\n",
    "rf_classifier = RandomForestClassifier()\n",
    "lr_classifier = LogisticRegression(max_iter=1000)\n",
    "scaler = StandardScaler()\n",
    "\n",
    "# Create a pipeline for each classifier with scaling\n",
    "rf_pipeline = Pipeline([\n",
    "    ('scaler', scaler),\n",
    "    ('rf', rf_classifier)\n",
    "])\n",
    "\n",
    "lr_pipeline = Pipeline([\n",
    "    ('scaler', scaler),\n",
    "    ('lr', lr_classifier)\n",
    "])\n",
    "\n",
    "# Create a Voting Classifier combining the two pipelines\n",
    "voting_classifier = VotingClassifier(\n",
    "    estimators=[\n",
    "        ('rf', rf_pipeline),\n",
    "        ('lr', lr_pipeline)\n",
    "    ],\n",
    "    voting='hard'  # 'hard' for majority voting, 'soft' for weighted voting based on class probabilities\n",
    ")\n",
    "\n",
    "# Train the Voting Classifier pipeline on the training data\n",
    "voting_classifier.fit(X_train, y_train)\n",
    "\n",
    "# Make predictions on the test dataset\n",
    "y_pred = voting_classifier.predict(X_test)\n",
    "\n",
    "# Evaluate the accuracy of the Voting Classifier\n",
    "accuracy = accuracy_score(y_test, y_pred)\n",
    "print(f'Accuracy of Voting Classifier on the test dataset: {accuracy:.2f}')\n"
   ]
  },
  {
   "cell_type": "code",
   "execution_count": null,
   "id": "90593c5e-a1e9-472e-a1f6-e8d7ef2abed3",
   "metadata": {},
   "outputs": [],
   "source": []
  }
 ],
 "metadata": {
  "kernelspec": {
   "display_name": "Python 3 (ipykernel)",
   "language": "python",
   "name": "python3"
  },
  "language_info": {
   "codemirror_mode": {
    "name": "ipython",
    "version": 3
   },
   "file_extension": ".py",
   "mimetype": "text/x-python",
   "name": "python",
   "nbconvert_exporter": "python",
   "pygments_lexer": "ipython3",
   "version": "3.10.8"
  }
 },
 "nbformat": 4,
 "nbformat_minor": 5
}
